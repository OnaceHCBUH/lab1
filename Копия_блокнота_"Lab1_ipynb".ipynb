{
  "cells": [
    {
      "cell_type": "markdown",
      "metadata": {
        "id": "view-in-github",
        "colab_type": "text"
      },
      "source": [
        "<a href=\"https://colab.research.google.com/github/OnaceHCBUH/lab1/blob/main/%D0%9A%D0%BE%D0%BF%D0%B8%D1%8F_%D0%B1%D0%BB%D0%BE%D0%BA%D0%BD%D0%BE%D1%82%D0%B0_%22Lab1_ipynb%22.ipynb\" target=\"_parent\"><img src=\"https://colab.research.google.com/assets/colab-badge.svg\" alt=\"Open In Colab\"/></a>"
      ]
    },
    {
      "cell_type": "markdown",
      "id": "fifteen-sailing",
      "metadata": {
        "id": "fifteen-sailing"
      },
      "source": [
        "# Лабораторная работа №1\n",
        "## Выполнил студент группы БСТ2105 Матсапаев Тимур"
      ]
    },
    {
      "cell_type": "markdown",
      "id": "particular-syndicate",
      "metadata": {
        "id": "particular-syndicate"
      },
      "source": [
        "### Оглавление\n",
        "1. [Задание 1](#Задание-№1)\n",
        "2. [Задание 2](#Задание-№2)\n",
        "3. [Задание 3](#Задание-№3)\n",
        "4. [Вывод](#Вывод)"
      ]
    },
    {
      "cell_type": "markdown",
      "id": "arctic-stocks",
      "metadata": {
        "id": "arctic-stocks"
      },
      "source": [
        "### Задание №1\n",
        "<i> Вызвать функцию print() и передать туда строку Hello, World! </i>"
      ]
    },
    {
      "cell_type": "code",
      "execution_count": null,
      "id": "caring-truck",
      "metadata": {
        "scrolled": true,
        "id": "caring-truck",
        "outputId": "38894754-d45c-494f-ff84-37bddc86bdc3",
        "colab": {
          "base_uri": "https://localhost:8080/"
        }
      },
      "outputs": [
        {
          "output_type": "stream",
          "name": "stdout",
          "text": [
            "Hello, World!\n"
          ]
        }
      ],
      "source": [
        "print(\"Hello, World!\")"
      ]
    },
    {
      "cell_type": "markdown",
      "id": "maritime-conversation",
      "metadata": {
        "id": "maritime-conversation"
      },
      "source": [
        "### Задание №2\n",
        "Написать генератор случайных матриц(многомерных), который принимает\n",
        "опциональные параметры <b>m</b>, <b>n</b>, <b>min_limit</b>, <b>max_limit</b>, где <b>m</b> и <b>n</b> указывают размер\n",
        "матрицы, а <b>min_lim</b> и <b>max_lim</b> - минимальное и максимальное значение для\n",
        "генерируемого числа."
      ]
    },
    {
      "cell_type": "code",
      "execution_count": 5,
      "id": "alert-charm",
      "metadata": {
        "id": "alert-charm",
        "colab": {
          "base_uri": "https://localhost:8080/"
        },
        "outputId": "b7850d8b-471a-479a-deb1-23c7cbd2f271"
      },
      "outputs": [
        {
          "output_type": "stream",
          "name": "stdout",
          "text": [
            "10\n",
            "10\n",
            "-100\n",
            "100\n",
            "[21, -74, -97, 100, -84, -2, 58, 16, -38, -97]\n",
            "[3, -58, 33, -37, -100, 22, 32, -64, 98, 55]\n",
            "[36, -100, 28, 7, 92, 43, -57, -80, 17, -2]\n",
            "[-57, 21, -20, -51, -61, 43, -85, -6, -89, 58]\n",
            "[-69, 19, -64, 32, -50, 71, -61, -83, 2, 52]\n",
            "[-33, 21, -35, -45, -64, -17, 86, 37, -99, 75]\n",
            "[83, -20, -89, 5, -21, -94, -72, -54, 12, 32]\n",
            "[6, 38, -36, -93, -21, 17, 98, -71, -60, 66]\n",
            "[-74, 32, -62, -40, 51, -23, -23, 69, 56, 84]\n",
            "[-59, -75, -78, -47, -65, 65, -54, -16, 96, -24]\n"
          ]
        }
      ],
      "source": [
        "import random\n",
        "import time\n",
        "user_m = int(input())\n",
        "user_n = int(input())\n",
        "user_min_limit = int(input())\n",
        "user_max_limit = int(input())\n",
        "array = [ [ random.randint(int(user_min_limit), int(user_max_limit)) for j in range(int(user_n))] for i in range(int(user_m)) ]\n",
        "for i in range(int(user_m)):\n",
        "  print(array[i])"
      ]
    },
    {
      "cell_type": "markdown",
      "id": "catholic-roots",
      "metadata": {
        "id": "catholic-roots"
      },
      "source": [
        "### Задание №3\n",
        "Реализовать методы сортировки строк числовой матрицы в соответствии с\n",
        "заданием. Оценить время работы каждого алгоритма сортировки и сравнить его со\n",
        "временем стандартной функции сортировки. Испытания проводить на сгенерированных\n",
        "матрицах."
      ]
    },
    {
      "cell_type": "code",
      "execution_count": 6,
      "id": "opposed-creature",
      "metadata": {
        "id": "opposed-creature"
      },
      "outputs": [],
      "source": [
        "import copy"
      ]
    },
    {
      "cell_type": "code",
      "execution_count": 8,
      "id": "cleared-anniversary",
      "metadata": {
        "id": "cleared-anniversary",
        "outputId": "b77fabb2-7601-44ee-ec22-68fff23d7dee",
        "colab": {
          "base_uri": "https://localhost:8080/"
        }
      },
      "outputs": [
        {
          "output_type": "stream",
          "name": "stdout",
          "text": [
            "Сортировка....\\\n",
            "[-97, -97, -84, -74, -38, -2, 16, 21, 58, 100]\n",
            "[-100, -64, -58, -37, 3, 22, 32, 33, 55, 98]\n",
            "[-100, -80, -57, -2, 7, 17, 28, 36, 43, 92]\n",
            "[-89, -85, -61, -57, -51, -20, -6, 21, 43, 58]\n",
            "[-83, -69, -64, -61, -50, 2, 19, 32, 52, 71]\n",
            "[-99, -64, -45, -35, -33, -17, 21, 37, 75, 86]\n",
            "[-94, -89, -72, -54, -21, -20, 5, 12, 32, 83]\n",
            "[-93, -71, -60, -36, -21, 6, 17, 38, 66, 98]\n",
            "[-74, -62, -40, -23, -23, 32, 51, 56, 69, 84]\n",
            "[-78, -75, -65, -59, -54, -47, -24, -16, 65, 96]\n",
            "--- 9 ms ---\n"
          ]
        }
      ],
      "source": [
        "# Сортировка выбором.\n",
        "# Берётся срез массива, в котором минимальный элемент переносят в самый левый угол,\n",
        "# после чего срез уменьшается и цикл повторяется.\n",
        "def f(a):\n",
        "  for i in range(len(a) - 1):\n",
        "      min = i\n",
        "      for j in range(i + 1, len(a)):\n",
        "          if a[j] < a[min]:\n",
        "              min = j\n",
        "      a[i], a[min] = a[min], a[i]\n",
        "  print(a)\n",
        "\n",
        "start_time = time.time()\n",
        "#TODO\n",
        "print(\"Сортировка....\\\\\")\n",
        "for i in range(user_m):\n",
        "  m = copy.copy(array[i])\n",
        "  f(m)\n",
        "\n",
        "print(\"--- {0} ms ---\".format(round((time.time() - start_time)*1000)))"
      ]
    },
    {
      "cell_type": "code",
      "execution_count": 9,
      "id": "roman-silly",
      "metadata": {
        "scrolled": true,
        "id": "roman-silly",
        "outputId": "2ea3da16-a790-4501-efe3-dd9f0cca13a9",
        "colab": {
          "base_uri": "https://localhost:8080/"
        }
      },
      "outputs": [
        {
          "output_type": "stream",
          "name": "stdout",
          "text": [
            "Сортировка....\\\n",
            "[-97, -97, -84, -74, -38, -2, 16, 21, 58, 100]\n",
            "[-100, -64, -58, -37, 3, 22, 32, 33, 55, 98]\n",
            "[-100, -80, -57, -2, 7, 17, 28, 36, 43, 92]\n",
            "[-89, -85, -61, -57, -51, -20, -6, 21, 43, 58]\n",
            "[-83, -69, -64, -61, -50, 2, 19, 32, 52, 71]\n",
            "[-99, -64, -45, -35, -33, -17, 21, 37, 75, 86]\n",
            "[-94, -89, -72, -54, -21, -20, 5, 12, 32, 83]\n",
            "[-93, -71, -60, -36, -21, 6, 17, 38, 66, 98]\n",
            "[-74, -62, -40, -23, -23, 32, 51, 56, 69, 84]\n",
            "[-78, -75, -65, -59, -54, -47, -24, -16, 65, 96]\n",
            "--- 1 ms ---\n"
          ]
        }
      ],
      "source": [
        "# Сортировка вставкой.\n",
        "def insert(matrix):\n",
        "  for i in range(len(matrix)):\n",
        "    j = i\n",
        "    while j > 0 and matrix[j-1]>matrix[j]:\n",
        "      matrix[j-1], matrix[j] = matrix[j], matrix[j-1]\n",
        "      j = j-1\n",
        "  print(matrix)\n",
        "start_time = time.time()\n",
        "#TODO\n",
        "\n",
        "\n",
        "print(\"Сортировка....\\\\\")\n",
        "for i in range(user_m):\n",
        "  m = copy.copy(array[i])\n",
        "  insert(m)\n",
        "print(\"--- {0} ms ---\".format(round((time.time() - start_time)*1000)))"
      ]
    },
    {
      "cell_type": "code",
      "execution_count": 10,
      "id": "vital-implementation",
      "metadata": {
        "id": "vital-implementation",
        "outputId": "6c91f9e1-5ec3-4cea-9616-683daf045c83",
        "colab": {
          "base_uri": "https://localhost:8080/"
        }
      },
      "outputs": [
        {
          "output_type": "stream",
          "name": "stdout",
          "text": [
            "Сортировка....\\\n",
            "[-97, -97, -84, -74, -38, -2, 16, 21, 58, 100]\n",
            "[-100, -64, -58, -37, 3, 22, 32, 33, 55, 98]\n",
            "[-100, -80, -57, -2, 7, 17, 28, 36, 43, 92]\n",
            "[-89, -85, -61, -57, -51, -20, -6, 21, 43, 58]\n",
            "[-83, -69, -64, -61, -50, 2, 19, 32, 52, 71]\n",
            "[-99, -64, -45, -35, -33, -17, 21, 37, 75, 86]\n",
            "[-94, -89, -72, -54, -21, -20, 5, 12, 32, 83]\n",
            "[-93, -71, -60, -36, -21, 6, 17, 38, 66, 98]\n",
            "[-74, -62, -40, -23, -23, 32, 51, 56, 69, 84]\n",
            "[-78, -75, -65, -59, -54, -47, -24, -16, 65, 96]\n",
            "--- 8 ms ---\n"
          ]
        }
      ],
      "source": [
        "# Сортировка обменом. || Сортировка пузырьком.\n",
        "def bubble(matrix):\n",
        "  for i in range(len(matrix)-1):\n",
        "      for j in range(len(matrix)-i-1):\n",
        "          if matrix[j] > matrix[j+1]:\n",
        "              matrix[j], matrix[j+1] = matrix[j+1], matrix[j]\n",
        "  print(matrix)\n",
        "start_time = time.time()\n",
        "#TODO\n",
        "\n",
        "print(\"Сортировка....\\\\\")\n",
        "for i in range(user_m):\n",
        "  m = copy.copy(array[i])\n",
        "  bubble(m)\n",
        "print(\"--- {0} ms ---\".format(round((time.time() - start_time)*1000)))"
      ]
    },
    {
      "cell_type": "code",
      "execution_count": 11,
      "id": "veterinary-glory",
      "metadata": {
        "id": "veterinary-glory",
        "outputId": "bf7be4a4-3fc8-4d1a-bd5d-98d9dc261086",
        "colab": {
          "base_uri": "https://localhost:8080/"
        }
      },
      "outputs": [
        {
          "output_type": "stream",
          "name": "stdout",
          "text": [
            "Сортировка....\\\n",
            "[-97, -97, -84, -74, -38, -2, 16, 21, 58, 100]\n",
            "[-100, -64, -58, -37, 3, 22, 32, 33, 55, 98]\n",
            "[-100, -80, -57, -2, 7, 17, 28, 36, 43, 92]\n",
            "[-89, -85, -61, -57, -51, -20, -6, 21, 43, 58]\n",
            "[-83, -69, -64, -61, -50, 2, 19, 32, 52, 71]\n",
            "[-99, -64, -45, -35, -33, -17, 21, 37, 75, 86]\n",
            "[-94, -89, -72, -54, -21, -20, 5, 12, 32, 83]\n",
            "[-93, -71, -60, -36, -21, 6, 17, 38, 66, 98]\n",
            "[-74, -62, -40, -23, -23, 32, 51, 56, 69, 84]\n",
            "[-78, -75, -65, -59, -54, -47, -24, -16, 65, 96]\n",
            "--- 11 ms ---\n"
          ]
        }
      ],
      "source": [
        "# Сортировка Шелла.\n",
        "start_time = time.time()\n",
        "def shell(matrix):\n",
        "  gap = len(matrix) // 2\n",
        "  while gap > 0:\n",
        "    for i in range(gap, len(matrix)):\n",
        "      cur = matrix[i]\n",
        "      pos = i\n",
        "      while pos >= gap and matrix[pos - gap] > cur:\n",
        "        matrix[pos] = matrix[pos - gap]\n",
        "        pos -= gap\n",
        "        matrix[pos] = cur\n",
        "    gap //= 2\n",
        "  print(matrix)\n",
        "#TODO\n",
        "print(\"Сортировка....\\\\\")\n",
        "for i in range(user_m):\n",
        "  m = copy.copy(array[i])\n",
        "  shellSort(m)\n",
        "print(\"--- {0} ms ---\".format(round((time.time() - start_time)*1000)))"
      ]
    },
    {
      "cell_type": "code",
      "execution_count": 12,
      "id": "correct-chaos",
      "metadata": {
        "id": "correct-chaos",
        "outputId": "5d979230-f3b4-4992-9403-5f20ee0446ff",
        "colab": {
          "base_uri": "https://localhost:8080/"
        }
      },
      "outputs": [
        {
          "output_type": "stream",
          "name": "stdout",
          "text": [
            "Сортировка....\\\n",
            "[-97, -97, -84, -74, -38, -2, 16, 21, 58, 100]\n",
            "[-100, -64, -58, -37, 3, 22, 32, 33, 55, 98]\n",
            "[-100, -80, -57, -2, 7, 17, 28, 36, 43, 92]\n",
            "[-89, -85, -61, -57, -51, -20, -6, 21, 43, 58]\n",
            "[-83, -69, -64, -61, -50, 2, 19, 32, 52, 71]\n",
            "[-99, -64, -45, -35, -33, -17, 21, 37, 75, 86]\n",
            "[-94, -89, -72, -54, -21, -20, 5, 12, 32, 83]\n",
            "[-93, -71, -60, -36, -21, 6, 17, 38, 66, 98]\n",
            "[-74, -62, -40, -23, -23, 32, 51, 56, 69, 84]\n",
            "[-78, -75, -65, -59, -54, -47, -24, -16, 65, 96]\n",
            "--- 15 ms ---\n"
          ]
        }
      ],
      "source": [
        "# Быстрая сортировка.\n",
        "def quick(s):\n",
        "  if len(s) <= 1:\n",
        "    return s\n",
        "  elem = s[0]\n",
        "  right = [i for i in s if i < elem ]\n",
        "  center = [i for i in s if i == elem ]\n",
        "  left = [i for i in s if i > elem ]\n",
        "  return quick(right) + center + quick(left)\n",
        "\n",
        "start_time = time.time()\n",
        "\n",
        "print(\"Сортировка....\\\\\")\n",
        "for i in range(user_m):\n",
        "  m = copy.copy(array[i])\n",
        "  print(quick(m))\n",
        "print(\"--- {0} ms ---\".format(round((time.time() - start_time)*1000)))\n",
        "    "
      ]
    },
    {
      "cell_type": "code",
      "execution_count": 13,
      "id": "french-czech",
      "metadata": {
        "colab": {
          "base_uri": "https://localhost:8080/"
        },
        "id": "french-czech",
        "outputId": "c144abe4-9611-41bc-9d1e-e5177b3c89ad"
      },
      "outputs": [
        {
          "output_type": "stream",
          "name": "stdout",
          "text": [
            "Сортировка....\\\n",
            "[-97, -97, -84, -74, -38, -2, 16, 21, 58, 100]\n",
            "[-100, -64, -58, -37, 3, 22, 32, 33, 55, 98]\n",
            "[-100, -80, -57, -2, 7, 17, 28, 36, 43, 92]\n",
            "[-89, -85, -61, -57, -51, -20, -6, 21, 43, 58]\n",
            "[-83, -69, -64, -61, -50, 2, 19, 32, 52, 71]\n",
            "[-99, -64, -45, -35, -33, -17, 21, 37, 75, 86]\n",
            "[-94, -89, -72, -54, -21, -20, 5, 12, 32, 83]\n",
            "[-93, -71, -60, -36, -21, 6, 17, 38, 66, 98]\n",
            "[-74, -62, -40, -23, -23, 32, 51, 56, 69, 84]\n",
            "[-78, -75, -65, -59, -54, -47, -24, -16, 65, 96]\n",
            "--- 8 ms ---\n"
          ]
        }
      ],
      "source": [
        "# Турнирная сортировка.\n",
        "def heapify(a, n, i):\n",
        "  max = i\n",
        "  left = 2*i+1\n",
        "  right = 2*i+2\n",
        "  if left < n and a[i] < a[left]:\n",
        "    max = left\n",
        "  if right < n and a[max] < a[right]:\n",
        "    max = right\n",
        "  \n",
        "  if max != i:\n",
        "    a[i], a[max] = a[max], a[i]\n",
        "    heapify(a, n, max)\n",
        "\n",
        "def heapSort(matrix):\n",
        "  for i in range(len(matrix)//2, -1, -1):\n",
        "    heapify(matrix, len(matrix), i)\n",
        "  for i in range(len(matrix)-1, 0, -1):\n",
        "    matrix[i], matrix[0] = matrix[0], matrix[i]\n",
        "    heapify(matrix, i, 0)\n",
        "  print(matrix)\n",
        "\n",
        "start_time = time.time()\n",
        "#TODO\n",
        "print(\"Сортировка....\\\\\")\n",
        "for i in range(user_m):\n",
        "  m = copy.copy(array[i])\n",
        "  heapSort(m)\n",
        "print(\"--- {0} ms ---\".format(round((time.time() - start_time)*1000)))"
      ]
    },
    {
      "cell_type": "markdown",
      "id": "rental-jerusalem",
      "metadata": {
        "id": "rental-jerusalem"
      },
      "source": [
        "### Вывод\n"
      ]
    },
    {
      "cell_type": "markdown",
      "id": "9d108a0a",
      "metadata": {
        "id": "9d108a0a"
      },
      "source": []
    }
  ],
  "metadata": {
    "kernelspec": {
      "display_name": "Python 3 (ipykernel)",
      "language": "python",
      "name": "python3"
    },
    "language_info": {
      "codemirror_mode": {
        "name": "ipython",
        "version": 3
      },
      "file_extension": ".py",
      "mimetype": "text/x-python",
      "name": "python",
      "nbconvert_exporter": "python",
      "pygments_lexer": "ipython3",
      "version": "3.10.2"
    },
    "colab": {
      "provenance": [],
      "include_colab_link": true
    }
  },
  "nbformat": 4,
  "nbformat_minor": 5
}